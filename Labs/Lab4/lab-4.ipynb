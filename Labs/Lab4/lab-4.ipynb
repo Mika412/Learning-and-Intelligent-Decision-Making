{
 "cells": [
  {
   "cell_type": "markdown",
   "metadata": {},
   "source": [
    "# Learning and Decision Making"
   ]
  },
  {
   "cell_type": "markdown",
   "metadata": {},
   "source": [
    "## Laboratory 4: Supervised learning\n",
    "\n",
    "In the end of the lab, you should submit all code/answers written in the tasks marked as \"Activity n. XXX\", together with the corresponding outputs and any replies to specific questions posed to the e-mail <adi.tecnico@gmail.com>. Make sure that the subject is of the form [&lt;group n.&gt;] LAB &lt;lab n.&gt;."
   ]
  },
  {
   "cell_type": "markdown",
   "metadata": {},
   "source": [
    "### 1. The IRIS dataset\n",
    "\n",
    "The Iris flower data set is a data set describing the morphologic variation of Iris flowers of three related species. Two of the three species were collected in the GaspÃ© Peninsula \"all from the same pasture, and picked on the same day and measured at the same time by the same person with the same apparatus\".\n",
    "\n",
    "The data set consists of 50 samples from each of three species of Iris (_Iris setosa_, _Iris virginica_ and _Iris versicolor_). Four features were measured from each sample: the length and the width of the sepals and petals, in centimetres.\n",
    "\n",
    "In your work, you will use the Iris dataset, considering only two of the three species of Iris.\n",
    "\n",
    "---\n",
    "\n",
    "We start by loading the dataset. The Iris dataset is available directly as part of `scikit-learn`and we use the `scikit-learn` command `load_iris` to retrieve the data."
   ]
  },
  {
   "cell_type": "code",
   "execution_count": 1,
   "metadata": {
    "scrolled": false
   },
   "outputs": [
    {
     "name": "stdout",
     "output_type": "stream",
     "text": [
      ".. _iris_dataset:\n",
      "\n",
      "Iris plants dataset\n",
      "--------------------\n",
      "\n",
      "**Data Set Characteristics:**\n",
      "\n",
      "    :Number of Instances: 150 (50 in each of three classes)\n",
      "    :Number of Attributes: 4 numeric, predictive attributes and the class\n",
      "    :Attribute Information:\n",
      "        - sepal length in cm\n",
      "        - sepal width in cm\n",
      "        - petal length in cm\n",
      "        - petal width in cm\n",
      "        - class:\n",
      "                - Iris-Setosa\n",
      "                - Iris-Versicolour\n",
      "                - Iris-Virginica\n",
      "                \n",
      "    :Summary Statistics:\n",
      "\n",
      "    ============== ==== ==== ======= ===== ====================\n",
      "                    Min  Max   Mean    SD   Class Correlation\n",
      "    ============== ==== ==== ======= ===== ====================\n",
      "    sepal length:   4.3  7.9   5.84   0.83    0.7826\n",
      "    sepal width:    2.0  4.4   3.05   0.43   -0.4194\n",
      "    petal length:   1.0  6.9   3.76   1.76    0.9490  (high!)\n",
      "    petal width:    0.1  2.5   1.20   0.76    0.9565  (high!)\n",
      "    ============== ==== ==== ======= ===== ====================\n",
      "\n",
      "    :Missing Attribute Values: None\n",
      "    :Class Distribution: 33.3% for each of 3 classes.\n",
      "    :Creator: R.A. Fisher\n",
      "    :Donor: Michael Marshall (MARSHALL%PLU@io.arc.nasa.gov)\n",
      "    :Date: July, 1988\n",
      "\n",
      "The famous Iris database, first used by Sir R.A. Fisher. The dataset is taken\n",
      "from Fisher's paper. Note that it's the same as in R, but not as in the UCI\n",
      "Machine Learning Repository, which has two wrong data points.\n",
      "\n",
      "This is perhaps the best known database to be found in the\n",
      "pattern recognition literature.  Fisher's paper is a classic in the field and\n",
      "is referenced frequently to this day.  (See Duda & Hart, for example.)  The\n",
      "data set contains 3 classes of 50 instances each, where each class refers to a\n",
      "type of iris plant.  One class is linearly separable from the other 2; the\n",
      "latter are NOT linearly separable from each other.\n",
      "\n",
      ".. topic:: References\n",
      "\n",
      "   - Fisher, R.A. \"The use of multiple measurements in taxonomic problems\"\n",
      "     Annual Eugenics, 7, Part II, 179-188 (1936); also in \"Contributions to\n",
      "     Mathematical Statistics\" (John Wiley, NY, 1950).\n",
      "   - Duda, R.O., & Hart, P.E. (1973) Pattern Classification and Scene Analysis.\n",
      "     (Q327.D83) John Wiley & Sons.  ISBN 0-471-22361-1.  See page 218.\n",
      "   - Dasarathy, B.V. (1980) \"Nosing Around the Neighborhood: A New System\n",
      "     Structure and Classification Rule for Recognition in Partially Exposed\n",
      "     Environments\".  IEEE Transactions on Pattern Analysis and Machine\n",
      "     Intelligence, Vol. PAMI-2, No. 1, 67-71.\n",
      "   - Gates, G.W. (1972) \"The Reduced Nearest Neighbor Rule\".  IEEE Transactions\n",
      "     on Information Theory, May 1972, 431-433.\n",
      "   - See also: 1988 MLC Proceedings, 54-64.  Cheeseman et al\"s AUTOCLASS II\n",
      "     conceptual clustering system finds 3 classes in the data.\n",
      "   - Many, many more ...\n"
     ]
    }
   ],
   "source": [
    "%matplotlib notebook\n",
    "\n",
    "import numpy as np\n",
    "import matplotlib.pyplot as plt\n",
    "\n",
    "from sklearn import datasets as data\n",
    "from sklearn.decomposition import PCA\n",
    "\n",
    "# Load dataset and print its description\n",
    "iris = data.load_iris()\n",
    "print(iris.DESCR)\n",
    "\n",
    "data_X = iris.data[50:,:]          # Select only 2 classes\n",
    "data_y = 2 * iris.target[50:] - 3  # Set output to {-1, +1}\n",
    "\n",
    "# Get dimensions \n",
    "nP = data_X.shape[0]\n",
    "nF = data_X.shape[1]\n"
   ]
  },
  {
   "cell_type": "markdown",
   "metadata": {},
   "source": [
    "In the first activity, you will prepare and visualize the data, before running the learning algorithms."
   ]
  },
  {
   "cell_type": "markdown",
   "metadata": {},
   "source": [
    "---\n",
    "\n",
    "#### Activity 1.        \n",
    "\n",
    "* Split the data into training and test sets. To build the train and test sets, you can use the function `train_test_split` from the module `model_selection` of `scikit-learn`. Make sure that the test set corresponds to 1/10th of your data. For reproducibility, set `random_state` to some fixed value.\n",
    "\n",
    "* Plot the training data. In particular, for every pair of features/attributes, create a scatter plot where different classes are plotted with different symbols. You may find useful the `subplot` command from `matplotlib.pyplot`.\n",
    "\n",
    "* Standardize the training data to have 0-mean and unitary standard deviation. You may find useful the `StandardScaler` from `sklearn.preprocessing`.\n",
    "\n",
    "**Note 1:** You may want to force the train and test data to a floating point representation, which you can do using the `astype` method of numpy arrays.\n",
    "\n",
    "**Note 2:** Keep in mind that the test data should not be used for any design or validation decisions.\n",
    "\n",
    "---"
   ]
  },
  {
   "cell_type": "code",
   "execution_count": 2,
   "metadata": {},
   "outputs": [],
   "source": [
    "# Insert your code here\n",
    "from sklearn.model_selection import train_test_split\n",
    "from sklearn.preprocessing import StandardScaler\n",
    "\n",
    "X_train, X_test, y_train, y_test = train_test_split(data_X, data_y, test_size=0.1, random_state=42)\n",
    "scaler = StandardScaler()\n",
    "X_train = scaler.fit_transform(X_train)\n",
    "\n",
    "\n",
    "#PLOT THE TRAINING DATA"
   ]
  },
  {
   "cell_type": "markdown",
   "metadata": {},
   "source": [
    "You will now use a very simple linear regression model, similar to the one studied in the homework, to discriminate between the two classes using only two features as inputs. To do so, you will create two artificial features that seek to capture most of the variability in the data using _principal component analysis_.\n",
    "\n",
    "---\n",
    "\n",
    "#### Activity 2. \n",
    "\n",
    "* Run PCA on the training set to get a representation of the data using only the two principal components. To do this, you should first fit the PCA model to the data and then use the resulting model to transform the data. For details, check the documentation for the function `PCA`.\n",
    "\n",
    "* Use the PCA model fit to the training data to also transform the test data.\n",
    "\n",
    "---"
   ]
  },
  {
   "cell_type": "code",
   "execution_count": 3,
   "metadata": {},
   "outputs": [],
   "source": [
    "# Insert your code here\n",
    "\n",
    "pca = PCA(n_components=2)\n",
    "pca.fit(X_train)\n",
    "X_train = pca.transform(X_train)\n",
    "X_test = pca.transform(X_test)"
   ]
  },
  {
   "cell_type": "markdown",
   "metadata": {},
   "source": [
    "---\n",
    "\n",
    "#### Activity 3.        \n",
    "\n",
    "Train a logistic regression classifier in Python using Newton-Raphson's method. The method is described by the update:\n",
    "\n",
    "$$\\mathbf{w}^{(k+1)}\\leftarrow\\mathbf{w}^{(k)}-\\mathbf{H}^{-1}\\mathbf{g},$$\n",
    "\n",
    "where $\\mathbf{H}$ and $\\mathbf{g}$ are the _Hessian matrix_ and _gradient vector_ that you computed in your homework. Therefore, to train the classifier you should write a cycle that repeatedly updates the parameter vector according to the rule above until the difference between two iterations is sufficiently small (e.g., smaller than $10^{-5}$).\n",
    "\n",
    "Print the resulting parameters and plot the decision boundary over the data points. Make sure that:\n",
    "\n",
    "1. You use the data from Activity 2, augmenting it with an extra feature that is always 1\n",
    "2. You initialize your parameters to zero.\n",
    "\n",
    "---"
   ]
  },
  {
   "cell_type": "code",
   "execution_count": 5,
   "metadata": {
    "scrolled": false
   },
   "outputs": [
    {
     "name": "stdout",
     "output_type": "stream",
     "text": [
      "The resulting weights are \n",
      "[[2.78840164]\n",
      " [2.65942559]\n",
      " [0.32817864]]\n"
     ]
    }
   ],
   "source": [
    "# Insert your code here\n",
    "%matplotlib notebook\n",
    "import numpy as np\n",
    "import matplotlib.pyplot as plt\n",
    "from numpy.linalg import inv\n",
    "\n",
    "def sigmoid(x, w):\n",
    "    return 1/(1 + np.exp(-1 * (np.dot(w.T, x)))[0][0]) \n",
    "\n",
    "def gradient(w, N):\n",
    "    s = 0\n",
    "    for i in range(N):\n",
    "        x = np.append(X_train[i], np.array([1]))[:, np.newaxis]\n",
    "        s = np.add(s, x * (y_train[i] - sigmoid(x, w)))\n",
    "    return s/N\n",
    "\n",
    "def hessian(w, N):\n",
    "    s = 0\n",
    "    for i in range(N):\n",
    "        x = np.append(X_train[i], np.array([1]))[:, np.newaxis]\n",
    "        s = np.add(s, np.dot(x, x.T) * sigmoid(x,w) * (1 - sigmoid(x,w)))\n",
    "    return -s/N\n",
    "\n",
    "#Sigmoid only returns between 0 and 1, so we changed the action values -1 to 0\n",
    "y_train[y_train == -1] = 0\n",
    "\n",
    "# Initializing our parameters\n",
    "N = len(X_train)\n",
    "w_current = np.array([[0],[0],[0]])\n",
    "w_next = np.subtract(w_current, np.dot(inv(hessian(w_current, N)), gradient(w_current, N)))\n",
    "count=0\n",
    "# The update itself\n",
    "while not np.linalg.norm(w_next - w_current) < 10**-5:\n",
    "    count+=1\n",
    "    w_current = w_next\n",
    "    w_next = np.subtract(w_current, np.dot(inv(hessian(w_current, N)), gradient(w_current, N)))\n",
    "\n",
    "w = w_current\n",
    "print(\"The resulting weights are \")\n",
    "print(w)"
   ]
  },
  {
   "cell_type": "markdown",
   "metadata": {},
   "source": [
    "---\n",
    "\n",
    "#### Activity 4.\n",
    "\n",
    "You will now compare the classifier from Activity 3 with a logistic regression classifier implemented in `sci-kit learn`. To do so, \n",
    "\n",
    "* Fit the logistic regression model to the data from Activity 2. The model can be imported from the `sklearn.linear_model` library under the name `LogisticRegression`. You should use the `newton-cg` solver and a regularization coefficient $C=1e40$.\n",
    "\n",
    "* Compare the parameter vector and decision region obtained with those from Activity 3. In particular, plot the two decision boundaries over the data points.\n",
    "\n",
    "* Compute the accuracy of your model on the training and test set. Use the `accuracy_score` function from the `sklearn.metrics` module.\n",
    "\n",
    "---"
   ]
  },
  {
   "cell_type": "code",
   "execution_count": null,
   "metadata": {},
   "outputs": [],
   "source": [
    "# Insert your code here\n",
    "from sklearn.linear_model import LogisticRegression\n",
    "from sklearn.metrics import accuracy_score\n",
    "clf = LogisticRegression(solver='newton-cg', C=1e+40).fit(X_train, y_train)\n",
    "\n",
    "clf = clf.fit(X_train, y_train)\n",
    "prediction_train = clf.predict(X_train)\n",
    "accuracy_train = accuracy_score(y_train, prediction_train)\n",
    "\n",
    "\n",
    "prediction_test = clf.predict(X_test)\n",
    "accuracy_test = accuracy_score(y_test, prediction_test)\n",
    "print(\"Train accuracy {}\".format(accuracy_train))\n",
    "print(\"Test accuracy {}\".format(accuracy_test))\n",
    "\n",
    "print(clf.coef_)\n",
    "#NEED TO COMPARE THE PARAMETER VECTOR\n",
    "\n",
    "# Plot data\n",
    "\n",
    "#plt.plot(data_X[:50, 0], data_X[:50, 1], 'bx', label='Versicolour')\n",
    "#plt.plot(data_X[50:, 0], data_X[50:, 1], 'ro', label='Virginica')\n",
    "#plt.xlabel('Petal length (cm)')\n",
    "#plt.ylabel('Petal width (cm)')\n",
    "#plt.legend(loc='best')\n",
    "#plt.show()\n"
   ]
  },
  {
   "cell_type": "markdown",
   "metadata": {},
   "source": [
    "In the continuation, you will investigate whether the performance of the model can be improved by augmenting its predictive power. In particular, you will now observe the impact of the parameter $C$ in the logistic regression model.\n",
    "\n",
    "---\n",
    "\n",
    "#### Activity 6.\n",
    "\n",
    "In this activity you will compare the performance of different logistic regression classifiers as you change the parameter $C$. To this purpose,\n",
    "\n",
    "* Start by further splitting the training dataset from Activity 1 into two sets, $D_T$ and $D_V$, where $D_T$ corresponds to $85\\%$ of the training dataset and $D_V$ to the remaining $15\\%$. You will use $D_T$ for training and $D_V$ for validation. \n",
    "\n",
    "* For $c\\in[1\\times10^{-3},10^4]$,\n",
    "\n",
    "  * Using $D_T$, train a logistic regression model with $C=c$ and using `newton-cg` as the solver.\n",
    "\n",
    "  * Compute the accuracy both in $D_T$ and in $D_V$;\n",
    "\n",
    "Repeat the _whole process_ (including the split of $D_T$ and $D_V$) 100 times and plot the average accuracy in $D_T$ (training accuracy) and in $D_V$ (test accuracy) across the 100 runs, as a function of $C$. Interpret the observed results, offering an explanation both to the observed classifier behavior and the role of $C$.\n",
    "\n",
    "** Note: ** The whole process may take a while, so don't despair.\n",
    "\n",
    "---"
   ]
  },
  {
   "cell_type": "code",
   "execution_count": null,
   "metadata": {
    "scrolled": false
   },
   "outputs": [],
   "source": [
    "# Insert your code here\n",
    "import matplotlib.pyplot as plt\n",
    "\n",
    "pltNumber = 0\n",
    "for c in [1e-3, 1e+4]:\n",
    "    accuracyTrain = []\n",
    "    accuracyTest = []\n",
    "    pltNumber+=1\n",
    "    for i in range(100):\n",
    "        #clf.\n",
    "        DT_X, DV_X, DT_y, DV_y = train_test_split(X_train, y_train, test_size=0.15)\n",
    "        clf = LogisticRegression(solver='newton-cg', C=c).fit(DT_X, DT_y)\n",
    "        prediction_DT = clf.predict(DT_X)\n",
    "        DT_accuracy = accuracy_score(DT_y, prediction_DT)\n",
    "        \n",
    "        prediction_DV = clf.predict(DV_X)\n",
    "        DV_accuracy = accuracy_score(DV_y, prediction_DV)\n",
    "        accuracyTrain.append((i,DT_accuracy))\n",
    "        accuracyTest.append((i,DV_accuracy))\n",
    "    #print(accuracyTrain)\n",
    "    plt.figure(pltNumber)\n",
    "    plt.title(\"C={}\".format(c))\n",
    "    plt.plot(*zip(*accuracyTrain), label=\"DT accuracy\")\n",
    "    plt.plot(*zip(*accuracyTest), label=\"DV accuracy\")\n",
    "    plt.legend()\n",
    "    plt.show()\n",
    "    \n",
    "#WRITE EXPLANATION AND CHECK IF IT's CORRECT"
   ]
  },
  {
   "cell_type": "code",
   "execution_count": null,
   "metadata": {},
   "outputs": [],
   "source": []
  }
 ],
 "metadata": {
  "celltoolbar": "Raw Cell Format",
  "kernelspec": {
   "display_name": "Python 3",
   "language": "python",
   "name": "python3"
  },
  "language_info": {
   "codemirror_mode": {
    "name": "ipython",
    "version": 3
   },
   "file_extension": ".py",
   "mimetype": "text/x-python",
   "name": "python",
   "nbconvert_exporter": "python",
   "pygments_lexer": "ipython3",
   "version": "3.6.7"
  }
 },
 "nbformat": 4,
 "nbformat_minor": 1
}
