{
 "cells": [
  {
   "cell_type": "markdown",
   "metadata": {},
   "source": [
    "# Learning and Decision Making"
   ]
  },
  {
   "cell_type": "markdown",
   "metadata": {},
   "source": [
    "## Laboratory 1: Markov chains\n",
    "\n",
    "In the end of the lab, you should submit all code/answers written in the tasks marked as \"Activity n. XXX\", together with the corresponding outputs and any replies to specific questions posed to the e-mail <adi.tecnico@gmail.com>. Make sure that the subject is of the form [&lt;group n.&gt;] LAB &lt;lab n.&gt;.\n",
    "\n",
    "### 1. Modeling\n",
    "\n",
    "Consider once again the train modeling problem described in the Homework and for which you wrote a Markov chain model:\n",
    "\n",
    "<img src=\"trains.png\" width=\"400px\">\n",
    "\n",
    "Recall that your chain should describe the motion of the single train traveling the network, where: \n",
    "\n",
    "* Stations $A$ and $B$ are just like regular stops;\n",
    "* The travel time between any two consecutive stops is exactly 10 minutes. The train stops exactly 2 minutes in each location.\n",
    "* At the intersection marked with a bold $\\times$, the train follows the branch 1-3 with probability 0.5, the branch 4 with probability 0.15, and the branch 5-6 with probability 0.35."
   ]
  },
  {
   "cell_type": "markdown",
   "metadata": {},
   "source": [
    "---\n",
    "\n",
    "#### Activity 1.        \n",
    "\n",
    "Implement your Markov chain model in Python. In particular,\n",
    "\n",
    "* Create a list with all the states;\n",
    "* Define a `numpy` array with the corresponding transition probabilities.\n",
    "\n",
    "The order for the states used in the transition probability matrix should match that in the list of states. \n",
    "\n",
    "**Note 1**: Don't forget to import `numpy`. If you need additional matrix operations (such as matrix powers or eigenvalues and eigenvectors), you may also import the library `numpy.linalg`.\n",
    "\n",
    "**Note 2**: Make sure to print the result in the end.\n",
    "\n",
    "---"
   ]
  },
  {
   "cell_type": "code",
   "execution_count": 2,
   "metadata": {},
   "outputs": [
    {
     "name": "stdout",
     "output_type": "stream",
     "text": [
      "States:\n",
      "['Station A', 'Branch 1-3', 'Branch 4', 'Branch 5-6', 'Station B']\n",
      "\n",
      " Transition Matrix: \n",
      "[[0.   0.5  0.15 0.35 0.  ]\n",
      " [0.   0.   0.   0.   1.  ]\n",
      " [0.   0.   0.   0.   1.  ]\n",
      " [0.   0.   0.   0.   1.  ]\n",
      " [1.   0.   0.   0.   0.  ]]\n"
     ]
    }
   ],
   "source": [
    "import numpy as np\n",
    "\n",
    "states = [\"Station A\", \"Branch 1-3\", \"Branch 4\", \"Branch 5-6\", \"Station B\"]\n",
    "transition_probabilities = np.array([[0, 0.5, 0.15, 0.35, 0], [0,0,0,0,1], [0,0,0,0,1], [0,0,0,0,1], [1, 0, 0, 0, 0]])\n",
    "\n",
    "print(\"States:\")\n",
    "print(states)\n",
    "print(\"\\n Transition Matrix: \")\n",
    "print(transition_probabilities)"
   ]
  },
  {
   "cell_type": "markdown",
   "metadata": {},
   "source": [
    "---\n",
    "\n",
    "#### Activity 2.\n",
    "\n",
    "Compute, using the proper transition matrix manipulations, the probability of the following trajectories:\n",
    "\n",
    "* 4 - $B$ - $A$ - 4\n",
    "* $A$ - 2 - 3 - $B$ - $A$\n",
    "* 5 - 6 - $B$ - $A$ - 4\n",
    "\n",
    "**Note:** Make sure to print the result in the end.\n",
    "\n",
    "---"
   ]
  },
  {
   "cell_type": "code",
   "execution_count": 3,
   "metadata": {},
   "outputs": [
    {
     "name": "stdout",
     "output_type": "stream",
     "text": [
      "4-B-A-4\n",
      "0.15\n",
      "A-2-3-B-A\n",
      "0, because there is no transition between A and 2\n",
      "5-6-B-A-4\n",
      "0.15\n"
     ]
    }
   ],
   "source": [
    "import numpy as np\n",
    "import numpy.linalg\n",
    "\n",
    "print(\"4-B-A-4\")\n",
    "tProb1 = np.linalg.matrix_power(transition_probabilities,3)\n",
    "print(tProb1[2][2])\n",
    "\n",
    "print(\"A-2-3-B-A\")\n",
    "print(\"0, because there is no transition between A and 2\")\n",
    "\n",
    "print(\"5-6-B-A-4\")\n",
    "tProb3 = np.linalg.matrix_power(transition_probabilities,3)\n",
    "print(tProb3[3][2])\n"
   ]
  },
  {
   "cell_type": "markdown",
   "metadata": {},
   "source": [
    "### 2. Stability"
   ]
  },
  {
   "cell_type": "markdown",
   "metadata": {},
   "source": [
    "---\n",
    "\n",
    "#### Activity 3\n",
    "\n",
    "Compute the stationary distribution for the chain. Confirm, computationally, that it is indeed the stationary distribution.\n",
    "\n",
    "**Note:** The stationary distribution is a *left* eigenvector of the transition probability matrix associated to the eigenvalue 1. As such, you may find useful the numpy function `numpy.linalg.eig`. Also, recall that the stationary distribution is *a distribution*.\n",
    "\n",
    "---"
   ]
  },
  {
   "cell_type": "code",
   "execution_count": 64,
   "metadata": {},
   "outputs": [
    {
     "name": "stdout",
     "output_type": "stream",
     "text": [
      "The Stationary Distribution: \n",
      "[0.33333333 0.16666667 0.05       0.11666667 0.33333333]\n",
      "\n",
      "Is this indeed a Stationary Distribution?: True\n"
     ]
    }
   ],
   "source": [
    "import numpy as np\n",
    "\n",
    "eigValues, eigVectors = np.linalg.eig(np.transpose(transition_probabilities))\n",
    "\n",
    "# Index of eigenvalue = 1\n",
    "index = np.argmin(np.abs(eigValues - 1))\n",
    "statDistributionNotNormalized = np.transpose(np.real(eigVectors[:, index]))\n",
    "# Normalize\n",
    "statDistribution = statDistributionNotNormalized/(np.sum(statDistributionNotNormalized))\n",
    "\n",
    "\n",
    "print(\"The Stationary Distribution: \")\n",
    "print(statDistribution)\n",
    "print()\n",
    "\n",
    "#Check if it is indeed a Stationary Distribution\n",
    "isStationary = True;\n",
    "if(np.sum(statDistribution)) != 1.0:\n",
    "    isStationary = False;\n",
    "for x in range(transition_probabilities.shape[0]):\n",
    "    mu = statDistribution[x]\n",
    "    total = 0\n",
    "    for y in range(transition_probabilities.shape[1]):\n",
    "        total += statDistribution[y]*transition_probabilities[y][x]\n",
    "    if(np.absolute(total - mu) > 0.0001): #Small error is possible, due to no exact operations\n",
    "        isStationary = False;\n",
    "\n",
    "print(\"Is this indeed a Stationary Distribution?: \" + str(isStationary))"
   ]
  },
  {
   "cell_type": "markdown",
   "metadata": {},
   "source": [
    "---\n",
    "\n",
    "#### Activity 4.\n",
    "\n",
    "Empirically show that the chain is ergodic.\n",
    "\n",
    "**Note:** Recall that a chain is ergodic if, given any initial distribution, it converges to the stationary distribution.\n",
    "\n",
    "---"
   ]
  },
  {
   "cell_type": "code",
   "execution_count": 85,
   "metadata": {},
   "outputs": [
    {
     "name": "stdout",
     "output_type": "stream",
     "text": [
      "[[0. 0. 0. 0. 0.]\n",
      " [0. 0. 0. 0. 0.]\n",
      " [0. 0. 0. 0. 0.]\n",
      " [0. 0. 0. 0. 0.]\n",
      " [1. 0. 0. 0. 0.]]\n",
      "[0.33333333 0.16666667 0.05       0.11666667 0.33333333]\n"
     ]
    }
   ],
   "source": [
    "import numpy as np\n",
    "\n",
    "initialDistribution = #TODO\n",
    "print(initialDistribution * transition_probabilities ** 100000)\n",
    "print(statDistribution)"
   ]
  },
  {
   "cell_type": "markdown",
   "metadata": {},
   "source": [
    "### 3. Simulation\n",
    "\n",
    "You are now going to *simulate* the Markov chain that you defined in Question #1."
   ]
  },
  {
   "cell_type": "markdown",
   "metadata": {},
   "source": [
    "---\n",
    "\n",
    "#### Activity 5\n",
    "\n",
    "Generate a 10,000-step long trajectory of the chain defined in Activity #1. \n",
    "\n",
    "---"
   ]
  },
  {
   "cell_type": "code",
   "execution_count": null,
   "metadata": {},
   "outputs": [],
   "source": []
  },
  {
   "cell_type": "markdown",
   "metadata": {},
   "source": [
    "---\n",
    "\n",
    "#### Activity 6\n",
    "\n",
    "Draw a histogram of the trajectory generated in Activity #5. Make sure that the histogram has one bin for each state. Compare the relative frequencies with the result of Activity #3.\n",
    "\n",
    "**Note**: Don't forget to load `matplotlib`.\n",
    "\n",
    "---"
   ]
  },
  {
   "cell_type": "code",
   "execution_count": null,
   "metadata": {},
   "outputs": [],
   "source": [
    "# -- Insert your code here -- #"
   ]
  }
 ],
 "metadata": {
  "kernelspec": {
   "display_name": "Python 3",
   "language": "python",
   "name": "python3"
  },
  "language_info": {
   "codemirror_mode": {
    "name": "ipython",
    "version": 3
   },
   "file_extension": ".py",
   "mimetype": "text/x-python",
   "name": "python",
   "nbconvert_exporter": "python",
   "pygments_lexer": "ipython3",
   "version": "3.6.5"
  }
 },
 "nbformat": 4,
 "nbformat_minor": 1
}
