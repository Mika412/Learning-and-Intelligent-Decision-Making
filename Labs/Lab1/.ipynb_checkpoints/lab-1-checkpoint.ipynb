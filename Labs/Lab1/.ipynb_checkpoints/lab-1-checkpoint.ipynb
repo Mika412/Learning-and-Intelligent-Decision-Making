{
 "cells": [
  {
   "cell_type": "markdown",
   "metadata": {},
   "source": [
    "# Learning and Decision Making"
   ]
  },
  {
   "cell_type": "markdown",
   "metadata": {},
   "source": [
    "## Laboratory 1: Markov chains\n",
    "\n",
    "In the end of the lab, you should submit all code/answers written in the tasks marked as \"Activity n. XXX\", together with the corresponding outputs and any replies to specific questions posed to the e-mail <adi.tecnico@gmail.com>. Make sure that the subject is of the form [&lt;group n.&gt;] LAB &lt;lab n.&gt;.\n",
    "\n",
    "### 1. Modeling\n",
    "\n",
    "Consider once again the train modeling problem described in the Homework and for which you wrote a Markov chain model:\n",
    "\n",
    "<img src=\"trains.png\" width=\"400px\">\n",
    "\n",
    "Recall that your chain should describe the motion of the single train traveling the network, where: \n",
    "\n",
    "* Stations $A$ and $B$ are just like regular stops;\n",
    "* The travel time between any two consecutive stops is exactly 10 minutes. The train stops exactly 2 minutes in each location.\n",
    "* At the intersection marked with a bold $\\times$, the train follows the branch 1-3 with probability 0.5, the branch 4 with probability 0.15, and the branch 5-6 with probability 0.35."
   ]
  },
  {
   "cell_type": "markdown",
   "metadata": {},
   "source": [
    "---\n",
    "\n",
    "#### Activity 1.        \n",
    "\n",
    "Implement your Markov chain model in Python. In particular,\n",
    "\n",
    "* Create a list with all the states;\n",
    "* Define a `numpy` array with the corresponding transition probabilities.\n",
    "\n",
    "The order for the states used in the transition probability matrix should match that in the list of states. \n",
    "\n",
    "**Note 1**: Don't forget to import `numpy`. If you need additional matrix operations (such as matrix powers or eigenvalues and eigenvectors), you may also import the library `numpy.linalg`.\n",
    "\n",
    "**Note 2**: Make sure to print the result in the end.\n",
    "\n",
    "---"
   ]
  },
  {
   "cell_type": "code",
   "execution_count": 1,
   "metadata": {},
   "outputs": [
    {
     "name": "stdout",
     "output_type": "stream",
     "text": [
      "States:\n",
      "['StationA', 'Stop1', 'Stop2', 'Stop3', 'Stop4', 'Stop5', 'Stop6', 'StationB']\n",
      "\n",
      "Transition Matrix: \n",
      "[[0.   0.5  0.   0.   0.15 0.35 0.   0.  ]\n",
      " [0.   0.   1.   0.   0.   0.   0.   0.  ]\n",
      " [0.   0.   0.   1.   0.   0.   0.   0.  ]\n",
      " [0.   0.   0.   0.   0.   0.   0.   1.  ]\n",
      " [0.   0.   0.   0.   0.   0.   0.   1.  ]\n",
      " [0.   0.   0.   0.   0.   0.   1.   0.  ]\n",
      " [0.   0.   0.   0.   0.   0.   0.   1.  ]\n",
      " [1.   0.   0.   0.   0.   0.   0.   0.  ]]\n"
     ]
    }
   ],
   "source": [
    "import numpy as np\n",
    "import numpy.linalg\n",
    "import matplotlib.pyplot as plt\n",
    "\n",
    "\n",
    "states = ['StationA', 'Stop1', 'Stop2', 'Stop3', 'Stop4', 'Stop5', 'Stop6', 'StationB']\n",
    "trans_prob = np.array([[0, 0.5,0,0, 0.15, 0.35, 0,0],[0,0,1,0,0,0,0, 0],[0,0,0,1,0,0,0, 0],[0,0,0,0,0,0,0, 1],[0,0,0,0,0,0,0, 1],[0,0,0,0,0,0,1, 0],[0,0,0,0,0,0,0, 1],[1,0,0,0,0,0,0, 0]])\n",
    "\n",
    "print(\"States:\")\n",
    "print(states)\n",
    "print()\n",
    "print(\"Transition Matrix: \")\n",
    "print(trans_prob)"
   ]
  },
  {
   "cell_type": "markdown",
   "metadata": {},
   "source": [
    "---\n",
    "\n",
    "#### Activity 2.\n",
    "\n",
    "Compute, using the proper transition matrix manipulations, the probability of the following trajectories:\n",
    "\n",
    "* 4 - $B$ - $A$ - 4\n",
    "* $A$ - 2 - 3 - $B$ - $A$\n",
    "* 5 - 6 - $B$ - $A$ - 4\n",
    "\n",
    "**Note:** Make sure to print the result in the end.\n",
    "\n",
    "---"
   ]
  },
  {
   "cell_type": "code",
   "execution_count": 5,
   "metadata": {},
   "outputs": [
    {
     "name": "stdout",
     "output_type": "stream",
     "text": [
      "Trajectory: 4-B-A-4\n",
      "Probability: 0.15\n",
      "\n",
      "Trajectory: A-2-3-B-A\n",
      "Probability: 0.0\n",
      "\n",
      "Trajectory: 5-6-B-A-4\n",
      "Probability: 0.15\n"
     ]
    }
   ],
   "source": [
    "\n",
    "stationA = states.index('StationA')\n",
    "stationB = states.index('StationB')\n",
    "stop1 = states.index('Stop1')\n",
    "stop2 = states.index('Stop2')\n",
    "stop3 = states.index('Stop3')\n",
    "stop4 = states.index('Stop4')\n",
    "stop5 = states.index('Stop5')\n",
    "stop6 = states.index('Stop6')\n",
    "\n",
    "\n",
    "print(\"Trajectory: 4-B-A-4\")\n",
    "tProb1 = trans_prob[stop4][stationB] * trans_prob[stationB][stationA] * trans_prob[stationA][stop4]\n",
    "print(\"Probability:\", tProb1)\n",
    "print()\n",
    "print(\"Trajectory: A-2-3-B-A\")\n",
    "tProb2 = trans_prob[stationA][stop2] * trans_prob[stop2][stop3] * trans_prob[stop3][stationB] * trans_prob[stationB][stationA]\n",
    "print(\"Probability:\", tProb2)\n",
    "print()\n",
    "print(\"Trajectory: 5-6-B-A-4\")\n",
    "tProb3 = trans_prob[stop5][stop6] * trans_prob[stop6][stationB] * trans_prob[stationB][stationA] * trans_prob[stationA][stop4]\n",
    "print(\"Probability:\", tProb3)"
   ]
  },
  {
   "cell_type": "markdown",
   "metadata": {},
   "source": [
    "### 2. Stability"
   ]
  },
  {
   "cell_type": "markdown",
   "metadata": {},
   "source": [
    "---\n",
    "\n",
    "#### Activity 3\n",
    "\n",
    "Compute the stationary distribution for the chain. Confirm, computationally, that it is indeed the stationary distribution.\n",
    "\n",
    "**Note:** The stationary distribution is a *left* eigenvector of the transition probability matrix associated to the eigenvalue 1. As such, you may find useful the numpy function `numpy.linalg.eig`. Also, recall that the stationary distribution is *a distribution*.\n",
    "\n",
    "---"
   ]
  },
  {
   "cell_type": "code",
   "execution_count": 7,
   "metadata": {},
   "outputs": [
    {
     "name": "stdout",
     "output_type": "stream",
     "text": [
      "The Stationary Distribution: \n",
      "[0.22988506 0.11494253 0.11494253 0.11494253 0.03448276 0.08045977\n",
      " 0.08045977 0.22988506]\n",
      "\n",
      "Is this indeed a Stationary Distribution?: True\n"
     ]
    }
   ],
   "source": [
    "\n",
    "statDistributionNotNormalized = np.real(np.linalg.eig(np.transpose(trans_prob))[1][:,0]) \n",
    "#np.real: The complex values we do not take into account\n",
    "#np.transpose: We want the left eigenvector, not the right eigenvector\n",
    "\n",
    "# Normalize\n",
    "statDistribution = statDistributionNotNormalized/(np.sum(statDistributionNotNormalized))\n",
    "\n",
    "\n",
    "print(\"The Stationary Distribution: \")\n",
    "print(statDistribution)\n",
    "print()\n",
    "\n",
    "#Check if it is indeed a Stationary Distribution\n",
    "isStationary = True;\n",
    "if(np.sum(statDistribution)) != 1.0:\n",
    "    isStationary = False;\n",
    "for x in range(trans_prob.shape[0]):\n",
    "    mu = statDistribution[x]\n",
    "    total = 0\n",
    "    for y in range(trans_prob.shape[1]):\n",
    "        total += statDistribution[y]*trans_prob[y][x]\n",
    "    if(np.absolute(total - mu) > 0.0001): #Small error is possible, due to no exact operations\n",
    "        isStationary = False;\n",
    "\n",
    "print(\"Is this indeed a Stationary Distribution?:\", isStationary)"
   ]
  },
  {
   "cell_type": "markdown",
   "metadata": {},
   "source": [
    "---\n",
    "\n",
    "#### Activity 4.\n",
    "\n",
    "Empirically show that the chain is ergodic.\n",
    "\n",
    "**Note:** Recall that a chain is ergodic if, given any initial distribution, it converges to the stationary distribution.\n",
    "\n",
    "---"
   ]
  },
  {
   "cell_type": "code",
   "execution_count": 10,
   "metadata": {},
   "outputs": [
    {
     "name": "stdout",
     "output_type": "stream",
     "text": [
      "Array by ergodic Check:\n",
      "[0.22988506 0.11494253 0.11494253 0.11494253 0.03448276 0.08045977\n",
      " 0.08045977 0.22988506]\n",
      "\n",
      "Stationary Distribution\n",
      "[0.22988506 0.11494253 0.11494253 0.11494253 0.03448276 0.08045977\n",
      " 0.08045977 0.22988506]\n",
      "\n",
      "Is the chain ergodic: True\n"
     ]
    }
   ],
   "source": [
    "\n",
    "initialDistribution = np.array([0, 0.5, 0, 0, 0.15, 0.35, 0, 0])\n",
    "ergodicCheck = np.array(np.dot(initialDistribution,(np.linalg.matrix_power(trans_prob,100000))))\n",
    "#use np.dot for matrix product, not '*'\n",
    "#use np.linalg.matrix_power for matrix power, not '**'\n",
    "\n",
    "print(\"Array by ergodic Check:\")\n",
    "print(ergodicCheck) \n",
    "print()\n",
    "print(\"Stationary Distribution\")\n",
    "print(statDistribution)\n",
    "print()\n",
    "isEqual = True;\n",
    "for i in range(ergodicCheck.shape[0]):\n",
    "    if(np.absolute(ergodicCheck[i] - statDistribution[i]) > 0.0001): #Small error is possible, due to no exact operations\n",
    "        isEqual = False;\n",
    "    \n",
    "print(\"Is the chain ergodic:\", isEqual)"
   ]
  },
  {
   "cell_type": "markdown",
   "metadata": {},
   "source": [
    "### 3. Simulation\n",
    "\n",
    "You are now going to *simulate* the Markov chain that you defined in Question #1."
   ]
  },
  {
   "cell_type": "markdown",
   "metadata": {},
   "source": [
    "---\n",
    "\n",
    "#### Activity 5\n",
    "\n",
    "Generate a 10,000-step long trajectory of the chain defined in Activity #1. \n",
    "\n",
    "---"
   ]
  },
  {
   "cell_type": "code",
   "execution_count": 14,
   "metadata": {},
   "outputs": [
    {
     "name": "stdout",
     "output_type": "stream",
     "text": [
      "{'StationA': 2299, 'Stop1': 1152, 'Stop2': 1152, 'Stop3': 1152, 'Stop4': 345, 'Stop5': 801, 'Stop6': 801, 'StationB': 2298}\n"
     ]
    }
   ],
   "source": [
    "currentState = \"StationA\"\n",
    "frequencies = {}\n",
    "#Set all the frequencies to zero\n",
    "for s in states:\n",
    "    frequencies[s] = 0\n",
    "\n",
    "#Calculate a 10,000-step long trajectory of the chain and keep track of the frequency of each state\n",
    "steps = 10000\n",
    "for i in range(steps):\n",
    "    frequencies[currentState]+=1\n",
    "    prob = trans_prob[states.index(currentState)]\n",
    "    currentState = np.random.choice(states, p=prob)\n",
    "\n",
    "print(frequencies)"
   ]
  },
  {
   "cell_type": "markdown",
   "metadata": {},
   "source": [
    "---\n",
    "\n",
    "#### Activity 6\n",
    "\n",
    "Draw a histogram of the trajectory generated in Activity #5. Make sure that the histogram has one bin for each state. Compare the relative frequencies with the result of Activity #3.\n",
    "\n",
    "**Note**: Don't forget to load `matplotlib`.\n",
    "\n",
    "---"
   ]
  },
  {
   "cell_type": "code",
   "execution_count": 23,
   "metadata": {},
   "outputs": [
    {
     "data": {
      "image/png": "[encoded data removed]",
      "text/plain": [
       "<Figure size 432x288 with 1 Axes>"
      ]
     },
     "metadata": {},
     "output_type": "display_data"
    }
   ],
   "source": [
    "\n",
    "plt.bar(range(len(frequencies)), list(frequencies.values()))\n",
    "plt.xticks(range(len(frequencies)), list(frequencies.keys()))\n",
    "\n",
    "plt.xlabel('States');\n",
    "plt.ylabel('Frequency');\n",
    "\n",
    "plt.show()"
   ]
  },
  {
   "cell_type": "code",
   "execution_count": null,
   "metadata": {},
   "outputs": [],
   "source": []
  }
 ],
 "metadata": {
  "kernelspec": {
   "display_name": "Python 3",
   "language": "python",
   "name": "python3"
  },
  "language_info": {
   "codemirror_mode": {
    "name": "ipython",
    "version": 3
   },
   "file_extension": ".py",
   "mimetype": "text/x-python",
   "name": "python",
   "nbconvert_exporter": "python",
   "pygments_lexer": "ipython3",
   "version": "3.7.0"
  }
 },
 "nbformat": 4,
 "nbformat_minor": 1
}
