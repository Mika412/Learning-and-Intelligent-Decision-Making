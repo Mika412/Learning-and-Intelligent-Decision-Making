{
 "cells": [
  {
   "cell_type": "markdown",
   "metadata": {},
   "source": [
    "# Learning and Decision Making"
   ]
  },
  {
   "cell_type": "markdown",
   "metadata": {},
   "source": [
    "## Laboratory 2: Markov decision problems\n",
    "\n",
    "In the end of the lab, you should submit all code/answers written in the tasks marked as \"Activity n. XXX\", together with the corresponding outputs and any replies to specific questions posed to the e-mail <adi.tecnico@gmail.com>. Make sure that the subject is of the form [&lt;group n.&gt;] LAB &lt;lab n.&gt;.\n",
    "\n",
    "### 1. Modeling\n",
    "\n",
    "Consider once again the gridworld domain described in the Homework and which you modeled using a Markov decision process.\n",
    "\n",
    "<img src=\"maze.png\" width=\"200px\">\n",
    "\n",
    "Recall that:\n",
    "\n",
    "* At each step, the agent may move in any of the four directions -- up, down, left and right. \n",
    "* Movement across a _grey_ cell division succeeds with a $0.8$ probability and fails with a $0.2$ probability. \n",
    "* Movements across colored cell divisions (blue or red) succeed with a $0.8$ probability _but only if the agent has the corresponding colored key_. Otherwise, they fail with probability $1$. \n",
    "* When the movement fails, the agent remains in the same cell. \n",
    "* To get a colored key, the agent simply needs to stand in the corresponding cell. \n",
    "* The goal of the agent is to reach the cell marked with **\"G\"**. \n",
    "\n",
    "**Throughout the lab, use $\\gamma=0.99$.**"
   ]
  },
  {
   "cell_type": "markdown",
   "metadata": {},
   "source": [
    "---\n",
    "\n",
    "#### Activity 1.        \n",
    "\n",
    "Implement your Markov decision process in Python. In particular,\n",
    "\n",
    "* Create a list with all the states;\n",
    "* Create a list with all the actions;\n",
    "* For each action, define a `numpy` array with the corresponding transition probabilities;\n",
    "* Define a `numpy`array with the costs. Make sure that:\n",
    "    * The costs lie in the interval [0, 1]\n",
    "    * The cost for standing in goal cell is minimal\n",
    "    * The cost for standing in intermediate cells is maximal\n",
    "\n",
    "The order for the states and actions used in the transition probability and cost matrices should match that in the lists of states and actions. \n",
    "\n",
    "**Note**: Don't forget to import `numpy`.\n",
    "\n",
    "---"
   ]
  },
  {
   "cell_type": "code",
   "execution_count": 24,
   "metadata": {
    "scrolled": false
   },
   "outputs": [],
   "source": [
    "import numpy as np\n",
    "\n",
    "states = ['TL','TR','BL','BR','R','TLR','TRR','BLR','BRR','B','TLB','TRB','BLB','BRB','G', 'ER']\n",
    "\n",
    "actions = ['Up', 'Down', 'Left', 'Right']\n",
    "\n",
    "prob_up = np.array([[1.0, 0.0, 0.0, 0.0, 0.0, 0.0, 0.0, 0.0, 0.0, 0.0, 0.0, 0.0, 0.0, 0.0, 0.0, 0.0],\n",
    "                    [0.0, 1.0, 0.0, 0.0, 0.0, 0.0, 0.0, 0.0, 0.0, 0.0, 0.0, 0.0, 0.0, 0.0, 0.0, 0.0],\n",
    "                    [0.8, 0.0, 0.2, 0.0, 0.0, 0.0, 0.0, 0.0, 0.0, 0.0, 0.0, 0.0, 0.0, 0.0, 0.0, 0.0],\n",
    "                    [0.0, 0.8, 0.0, 0.2, 0.0, 0.0, 0.0, 0.0, 0.0, 0.0, 0.0, 0.0, 0.0, 0.0, 0.0, 0.0],\n",
    "                    [0.0, 0.0, 0.0, 0.0, 0.2, 0.0, 0.0, 0.8, 0.0, 0.0, 0.0, 0.0, 0.0, 0.0, 0.0, 0.0],\n",
    "                    [0.0, 0.0, 0.0, 0.0, 0.0, 1.0, 0.0, 0.0, 0.0, 0.0, 0.0, 0.0, 0.0, 0.0, 0.0, 0.0],\n",
    "                    [0.0, 0.0, 0.0, 0.0, 0.0, 0.0, 1.0, 0.0, 0.0, 0.0, 0.0, 0.0, 0.0, 0.0, 0.0, 0.0],\n",
    "                    [0.0, 0.0, 0.0, 0.0, 0.0, 0.8, 0.0, 0.2, 0.0, 0.0, 0.0, 0.0, 0.0, 0.0, 0.0, 0.0],\n",
    "                    [0.0, 0.0, 0.0, 0.0, 0.0, 0.0, 0.8, 0.0, 0.2, 0.0, 0.0, 0.0, 0.0, 0.0, 0.0, 0.0],\n",
    "                    [0.0, 0.0, 0.0, 0.0, 0.0, 0.0, 0.0, 0.0, 0.0, 1.0, 0.0, 0.0, 0.0, 0.0, 0.0, 0.0],\n",
    "                    [0.0, 0.0, 0.0, 0.0, 0.0, 0.0, 0.0, 0.0, 0.0, 0.0, 1.0, 0.0, 0.0, 0.0, 0.0, 0.0],\n",
    "                    [0.0, 0.0, 0.0, 0.0, 0.0, 0.0, 0.0, 0.0, 0.0, 0.0, 0.0, 1.0, 0.0, 0.0, 0.0, 0.0],\n",
    "                    [0.0, 0.0, 0.0, 0.0, 0.0, 0.0, 0.0, 0.0, 0.0, 0.0, 0.8, 0.0, 0.2, 0.0, 0.0, 0.0],\n",
    "                    [0.0, 0.0, 0.0, 0.0, 0.0, 0.0, 0.0, 0.0, 0.0, 0.0, 0.0, 0.8, 0.0, 0.2, 0.0, 0.0],\n",
    "                    [0.0, 0.0, 0.0, 0.0, 0.0, 0.0, 0.0, 0.0, 0.0, 0.0, 0.0, 0.0, 0.0, 0.0, 1.0, 0.0],\n",
    "                    [0.0, 0.0, 0.0, 0.0, 0.0, 0.0, 0.0, 0.0, 0.0, 0.0, 0.0, 0.0, 0.8, 0.0, 0.0, 0.2]])\n",
    "\n",
    "prob_down = np.array([[0.2, 0.0, 0.8, 0.0, 0.0, 0.0, 0.0, 0.0, 0.0, 0.0, 0.0, 0.0, 0.0, 0.0, 0.0, 0.0],\n",
    "                      [0.0, 0.2, 0.0, 0.8, 0.0, 0.0, 0.0, 0.0, 0.0, 0.0, 0.0, 0.0, 0.0, 0.0, 0.0, 0.0],\n",
    "                      [0.0, 0.0, 0.2, 0.0, 0.8, 0.0, 0.0, 0.0, 0.0, 0.0, 0.0, 0.0, 0.0, 0.0, 0.0, 0.0],\n",
    "                      [0.0, 0.0, 0.0, 1.0, 0.0, 0.0, 0.0, 0.0, 0.0, 0.0, 0.0, 0.0, 0.0, 0.0, 0.0, 0.0],\n",
    "                      [0.0, 0.0, 0.0, 0.0, 1.0, 0.0, 0.0, 0.0, 0.0, 0.0, 0.0, 0.0, 0.0, 0.0, 0.0, 0.0],\n",
    "                      [0.0, 0.0, 0.0, 0.0, 0.0, 0.2, 0.0, 0.8, 0.0, 0.0, 0.0, 0.0, 0.0, 0.0, 0.0, 0.0],\n",
    "                      [0.0, 0.0, 0.0, 0.0, 0.0, 0.0, 0.2, 0.0, 0.8, 0.0, 0.0, 0.0, 0.0, 0.0, 0.0, 0.0],\n",
    "                      [0.0, 0.0, 0.0, 0.0, 0.8, 0.0, 0.0, 0.2, 0.0, 0.0, 0.0, 0.0, 0.0, 0.0, 0.0, 0.0],\n",
    "                      [0.0, 0.0, 0.0, 0.0, 0.0, 0.0, 0.0, 0.0, 1.0, 0.0, 0.0, 0.0, 0.0, 0.0, 0.0, 0.0],\n",
    "                      [0.0, 0.0, 0.0, 0.0, 0.0, 0.0, 0.0, 0.0, 0.0, 1.0, 0.0, 0.0, 0.0, 0.0, 0.0, 0.0],\n",
    "                      [0.0, 0.0, 0.0, 0.0, 0.0, 0.0, 0.0, 0.0, 0.0, 0.0, 0.2, 0.0, 0.8, 0.0, 0.0, 0.0],\n",
    "                      [0.0, 0.0, 0.0, 0.0, 0.0, 0.0, 0.0, 0.0, 0.0, 0.0, 0.0, 0.2, 0.0, 0.8, 0.0, 0.0],\n",
    "                      [0.0, 0.0, 0.0, 0.0, 0.0, 0.0, 0.0, 0.0, 0.0, 0.0, 0.0, 0.0, 0.2, 0.0, 0.0, 0.8],\n",
    "                      [0.0, 0.0, 0.0, 0.0, 0.0, 0.0, 0.0, 0.0, 0.0, 0.0, 0.0, 0.0, 0.0, 1.0, 0.0, 0.0],\n",
    "                      [0.0, 0.0, 0.0, 0.0, 0.0, 0.0, 0.0, 0.0, 0.0, 0.0, 0.0, 0.0, 0.0, 0.0, 1.0, 0.0],\n",
    "                      [0.0, 0.0, 0.0, 0.0, 0.0, 0.0, 0.0, 0.0, 0.0, 0.0, 0.0, 0.0, 0.0, 0.0, 0.0, 1.0]])\n",
    "\n",
    "prob_left = np.array([[1.0, 0.0, 0.0, 0.0, 0.0, 0.0, 0.0, 0.0, 0.0, 0.0, 0.0, 0.0, 0.0, 0.0, 0.0, 0.0],\n",
    "                      [0.8, 0.2, 0.0, 0.0, 0.0, 0.0, 0.0, 0.0, 0.0, 0.0, 0.0, 0.0, 0.0, 0.0, 0.0, 0.0],\n",
    "                      [0.0, 0.0, 1.0, 0.0, 0.0, 0.0, 0.0, 0.0, 0.0, 0.0, 0.0, 0.0, 0.0, 0.0, 0.0, 0.0],\n",
    "                      [0.0, 0.0, 0.8, 0.2, 0.0, 0.0, 0.0, 0.0, 0.0, 0.0, 0.0, 0.0, 0.0, 0.0, 0.0, 0.0],\n",
    "                      [0.0, 0.0, 0.0, 0.0, 1.0, 0.0, 0.0, 0.0, 0.0, 0.0, 0.0, 0.0, 0.0, 0.0, 0.0, 0.0],\n",
    "                      [0.0, 0.0, 0.0, 0.0, 0.0, 0.2, 0.0, 0.0, 0.0, 0.8, 0.0, 0.0, 0.0, 0.0, 0.0, 0.0],\n",
    "                      [0.0, 0.0, 0.0, 0.0, 0.0, 0.8, 0.2, 0.0, 0.0, 0.0, 0.0, 0.0, 0.0, 0.0, 0.0, 0.0],\n",
    "                      [0.0, 0.0, 0.0, 0.0, 0.0, 0.0, 0.0, 1.0, 0.0, 0.0, 0.0, 0.0, 0.0, 0.0, 0.0, 0.0],\n",
    "                      [0.0, 0.0, 0.0, 0.0, 0.0, 0.0, 0.0, 0.8, 0.2, 0.0, 0.0, 0.0, 0.0, 0.0, 0.0, 0.0],\n",
    "                      [0.0, 0.0, 0.0, 0.0, 0.0, 0.0, 0.0, 0.0, 0.0, 1.0, 0.0, 0.0, 0.0, 0.0, 0.0, 0.0],\n",
    "                      [0.0, 0.0, 0.0, 0.0, 0.0, 0.0, 0.0, 0.0, 0.0, 0.8, 0.2, 0.0, 0.0, 0.0, 0.0, 0.0],\n",
    "                      [0.0, 0.0, 0.0, 0.0, 0.0, 0.0, 0.0, 0.0, 0.0, 0.0, 0.8, 0.2, 0.0, 0.0, 0.0, 0.0],\n",
    "                      [0.0, 0.0, 0.0, 0.0, 0.0, 0.0, 0.0, 0.0, 0.0, 0.0, 0.0, 0.0, 1.0, 0.0, 0.0, 0.0],\n",
    "                      [0.0, 0.0, 0.0, 0.0, 0.0, 0.0, 0.0, 0.0, 0.0, 0.0, 0.0, 0.0, 0.8, 0.2, 0.0, 0.0],\n",
    "                      [0.0, 0.0, 0.0, 0.0, 0.0, 0.0, 0.0, 0.0, 0.0, 0.0, 0.0, 0.0, 0.0, 0.0, 1.0, 0.0],\n",
    "                      [0.0, 0.0, 0.0, 0.0, 0.0, 0.0, 0.0, 0.0, 0.0, 0.0, 0.0, 0.0, 0.0, 0.0, 0.0, 1.0]])\n",
    "\n",
    "prob_right = np.array([[0.2, 0.8, 0.0, 0.0, 0.0, 0.0, 0.0, 0.0, 0.0, 0.0, 0.0, 0.0, 0.0, 0.0, 0.0, 0.0],\n",
    "                       [0.0, 1.0, 0.0, 0.0, 0.0, 0.0, 0.0, 0.0, 0.0, 0.0, 0.0, 0.0, 0.0, 0.0, 0.0, 0.0],\n",
    "                       [0.0, 0.0, 0.2, 0.8, 0.0, 0.0, 0.0, 0.0, 0.0, 0.0, 0.0, 0.0, 0.0, 0.0, 0.0, 0.0],\n",
    "                       [0.0, 0.0, 0.0, 1.0, 0.0, 0.0, 0.0, 0.0, 0.0, 0.0, 0.0, 0.0, 0.0, 0.0, 0.0, 0.0],\n",
    "                       [0.0, 0.0, 0.0, 0.0, 1.0, 0.0, 0.0, 0.0, 0.0, 0.0, 0.0, 0.0, 0.0, 0.0, 0.0, 0.0],\n",
    "                       [0.0, 0.0, 0.0, 0.0, 0.0, 0.2, 0.8, 0.0, 0.0, 0.0, 0.0, 0.0, 0.0, 0.0, 0.0, 0.0],\n",
    "                       [0.0, 0.0, 0.0, 0.0, 0.0, 0.0, 1.0, 0.0, 0.0, 0.0, 0.0, 0.0, 0.0, 0.0, 0.0, 0.0],\n",
    "                       [0.0, 0.0, 0.0, 0.0, 0.0, 0.0, 0.0, 0.2, 0.8, 0.0, 0.0, 0.0, 0.0, 0.0, 0.0, 0.0],\n",
    "                       [0.0, 0.0, 0.0, 0.0, 0.0, 0.0, 0.0, 0.0, 1.0, 0.0, 0.0, 0.0, 0.0, 0.0, 0.0, 0.0],\n",
    "                       [0.0, 0.0, 0.0, 0.0, 0.0, 0.0, 0.0, 0.0, 0.0, 0.2, 0.0, 0.8, 0.0, 0.0, 0.0, 0.0],\n",
    "                       [0.0, 0.0, 0.0, 0.0, 0.0, 0.0, 0.0, 0.0, 0.0, 0.0, 0.2, 0.8, 0.0, 0.0, 0.0, 0.0],\n",
    "                       [0.0, 0.0, 0.0, 0.0, 0.0, 0.0, 0.0, 0.0, 0.0, 0.0, 0.0, 1.0, 0.0, 0.0, 0.0, 0.0],\n",
    "                       [0.0, 0.0, 0.0, 0.0, 0.0, 0.0, 0.0, 0.0, 0.0, 0.0, 0.0, 0.0, 0.2, 0.8, 0.0, 0.0],\n",
    "                       [0.0, 0.0, 0.0, 0.0, 0.0, 0.0, 0.0, 0.0, 0.0, 0.0, 0.0, 0.0, 0.0, 0.2, 0.8, 0.0],\n",
    "                       [0.0, 0.0, 0.0, 0.0, 0.0, 0.0, 0.0, 0.0, 0.0, 0.0, 0.0, 0.0, 0.0, 0.0, 1.0, 0.0],\n",
    "                       [0.0, 0.0, 0.0, 0.0, 0.0, 0.0, 0.0, 0.0, 0.0, 0.0, 0.0, 0.0, 0.0, 0.0, 0.0, 1.0]])\n",
    "\n",
    "costs = np.array([[1.0, 0.0, 1.0, 0.5],\n",
    "                  [1.0, 0.0, 0.0, 1.0],\n",
    "                  [0.5, 0.0, 1.0, 0.5],\n",
    "                  [0.5, 1.0, 0.0, 1.0],\n",
    "                  [0.0, 1.0, 1.0, 1.0],\n",
    "                  [1.0, 0.5, 0.0, 0.5],\n",
    "                  [1.0, 0.5, 0.0, 1.0],\n",
    "                  [0.0, 0.5, 1.0, 0.5],\n",
    "                  [0.0, 1.0, 0.0, 1.0],\n",
    "                  [1.0, 1.0, 1.0, 0.0],\n",
    "                  [1.0, 0.0, 0.5, 0.0],\n",
    "                  [1.0, 0.0, 0.5, 1.0],\n",
    "                  [0.5, 0.5, 1.0, 0.0],\n",
    "                  [0.5, 1.0, 0.5, 0.0],\n",
    "                  [1.0, 1.0, 1.0, 1.0],\n",
    "                  [0.0, 1.0, 1.0, 1.0]])\n",
    "\n",
    "cost_up = costs[:,[0]]\n",
    "cost_down = costs[:,[1]]\n",
    "cost_left = costs[:,[2]]\n",
    "cost_right = costs[:,[3]]"
   ]
  },
  {
   "cell_type": "markdown",
   "metadata": {},
   "source": [
    "### 2. Prediction\n",
    "\n",
    "You are now going to evaluate a given policy, computing the corresponding cost-to-go."
   ]
  },
  {
   "cell_type": "markdown",
   "metadata": {
    "raw_mimetype": "text/latex"
   },
   "source": [
    "---\n",
    "\n",
    "#### Activity 2.\n",
    "\n",
    "Describe the policy that, in each state $x$, always moves the agent to the cell closest to the goal (irrespectively of the number of keys in the agent's possession). If multiple such cells exist, the agent should select randomly between the two.\n",
    "\n",
    "For example, suppose that the agent is in cell 2. It should then select randomly between the actions $D$ and $R$. Conversely, suppose that the agent is in cell 4. The knight should then select actions $R$ with probability 1.\n",
    "\n",
    "**Note:** The policy should be described as a vector with as many rows as there are states and as many columns as there are actions, where the entry $(x,a)$ has the probability of selecting action $a$ in state $x$.\n",
    "\n",
    "---"
   ]
  },
  {
   "cell_type": "code",
   "execution_count": 25,
   "metadata": {},
   "outputs": [],
   "source": [
    "# Actions: 'Up', 'Down', 'Left', 'Right'\n",
    "\n",
    "policy = np.array([[0.0, 0.5, 0.0, 0.5],  #TL\n",
    "                   [0.0, 1.0, 0.0, 0.0],  #TR\n",
    "                   [0.0, 0.0, 0.0, 1.0],  #BL\n",
    "                   [0.0, 0.0, 0.0, 1.0],  #BR\n",
    "                   [1.0, 0.0, 0.0, 0.0],  #Red\n",
    "                   [0.0, 0.5, 0.0, 0.5],  #TLR\n",
    "                   [0.0, 1.0, 0.0, 0.0],  #TRR\n",
    "                   [0.0, 0.0, 0.0, 1.0],  #BLR\n",
    "                   [0.0, 0.0, 0.0, 1.0],  #BRR\n",
    "                   [0.0, 0.0, 0.0, 1.0],  #Blue\n",
    "                   [0.0, 0.5, 0.0, 0.5],  #TLB\n",
    "                   [0.0, 1.0, 0.0, 0.0],  #TRB\n",
    "                   [0.0, 0.0, 0.0, 1.0],  #BLB\n",
    "                   [0.0, 0.0, 0.0, 1.0],  #BRB\n",
    "                   [1/3, 1/3, 0.0, 1/3],  #Goal\n",
    "                   [1.0, 0.0, 0.0, 0.0]]) #Empty Red"
   ]
  },
  {
   "cell_type": "markdown",
   "metadata": {},
   "source": [
    "---\n",
    "\n",
    "#### Activity 3.\n",
    "\n",
    "Compute the cost-to-go function $J^\\pi$ associated with the policy from Activity 2.\n",
    "\n",
    "---"
   ]
  },
  {
   "cell_type": "code",
   "execution_count": 26,
   "metadata": {},
   "outputs": [
    {
     "name": "stdout",
     "output_type": "stream",
     "text": [
      "[ 98.14133619  98.75311721  99.3765586  100.          98.13744939\n",
      "  98.76089079  99.3765586   99.3765586  100.          96.30579927\n",
      "  96.30579927  97.52178158  97.52178158  98.75311721 100.\n",
      "  96.30579927]\n"
     ]
    }
   ],
   "source": [
    "probabilities = [prob_up, prob_down, prob_left, prob_right]\n",
    "\n",
    "gamma = 0.99\n",
    "\n",
    "#Calculate the cost of the policy based on the cost of that action in that state\n",
    "policy_cost = []\n",
    "for state in states:\n",
    "    state_index = states.index(state)\n",
    "    state_cost = 0\n",
    "    for action in actions:\n",
    "        action_index = actions.index(action)\n",
    "        state_cost += policy[state_index][action_index] * costs[state_index][action_index]\n",
    "    policy_cost += [state_cost]\n",
    "policy_cost = np.array(policy_cost) #convert to a numpy array\n",
    "\n",
    "\n",
    "#Calculate the probability matrix of this policy\n",
    "prob_policy = []\n",
    "for i in range(len(states)):\n",
    "    row = []\n",
    "    for j in range(len(states)):\n",
    "        sum = 0\n",
    "        for action in actions:\n",
    "            action_index = actions.index(action)\n",
    "            sum += policy[i][action_index] * (probabilities[action_index])[i][j]\n",
    "        row += [sum]\n",
    "    prob_policy += [row]\n",
    "prob_policy = np.array(prob_policy)\n",
    "\n",
    "#Formula seen in the class\n",
    "J = np.dot(np.linalg.inv(np.eye(len(states)) - (gamma * prob_policy)), policy_cost)\n",
    "print(J)"
   ]
  },
  {
   "cell_type": "markdown",
   "metadata": {},
   "source": [
    "### 3. Control\n",
    "\n",
    "In this section you are going to compare value and policy iteration, both in terms of time and number of iterations."
   ]
  },
  {
   "cell_type": "markdown",
   "metadata": {},
   "source": [
    "---\n",
    "\n",
    "#### Activity 4\n",
    "\n",
    "Show that the policy in Activity 3 is _not_ optimal: use value iteration to compute $J^*$ and show that $J^*\\neq J^\\pi$. Track the time and the number of iterations taken to compute $J^*$.\n",
    "\n",
    "**Note 1:** Stop the algorithm when the error between iterations is smaller than $10^{-8}$.\n",
    "\n",
    "**Note 2:** You may find useful the function ``time()`` from the module ``time``.\n",
    "\n",
    "---"
   ]
  },
  {
   "cell_type": "code",
   "execution_count": 27,
   "metadata": {
    "scrolled": false
   },
   "outputs": [
    {
     "name": "stdout",
     "output_type": "stream",
     "text": [
      "Iterations: 1868 Time: 0.0864267349243164 seconds\n",
      "[[23.0415529 ]\n",
      " [22.75425174]\n",
      " [23.3324816 ]\n",
      " [23.0415529 ]\n",
      " [23.62708365]\n",
      " [24.22749387]\n",
      " [23.92540541]\n",
      " [23.92540541]\n",
      " [23.62708365]\n",
      " [24.53339657]\n",
      " [24.53339657]\n",
      " [24.84316168]\n",
      " [24.84316168]\n",
      " [25.15683797]\n",
      " [99.9999993 ]\n",
      " [24.53339657]]\n"
     ]
    }
   ],
   "source": [
    "import time\n",
    "\n",
    "gamma = 0.99\n",
    "\n",
    "J = np.zeros((len(states),1))\n",
    "err = 1\n",
    "i = 0\n",
    "\n",
    "t1 = time.time()\n",
    "while err > 1e-8:\n",
    "    Qup = cost_up + gamma * prob_up.dot(J)\n",
    "    Qdown = cost_down + gamma * prob_down.dot(J)\n",
    "    Qleft = cost_left + gamma * prob_left.dot(J)\n",
    "    Qright = cost_right + gamma * prob_right.dot(J)\n",
    "    Jnew = np.min((Qup, Qdown, Qleft, Qright), axis=0)\n",
    "    err = np.linalg.norm(Jnew - J)\n",
    "    i += 1\n",
    "    J = Jnew\n",
    "t2 = time.time() - t1\n",
    "\n",
    "print(\"Iterations:\", i, \"Time:\",t2,\"seconds\")\n",
    "print(J)"
   ]
  },
  {
   "cell_type": "markdown",
   "metadata": {},
   "source": [
    "---\n",
    "\n",
    "#### Activity 5\n",
    "\n",
    "Compute once again the optimal policy now using policy iteration. Track the time and number of iterations taken and compare to those of Activity 4.\n",
    "\n",
    "**Note:** If you find that numerical errors affect your computations (especially when comparing two values/arrays) you may use the `numpy` function `isclose` with adequately set absolute and relative tolerance parameters (e.g., $10^{-8}$).\n",
    "\n",
    "---"
   ]
  },
  {
   "cell_type": "code",
   "execution_count": 29,
   "metadata": {
    "scrolled": false
   },
   "outputs": [
    {
     "name": "stdout",
     "output_type": "stream",
     "text": [
      "Iterations: 2 Time: 0.0038597583770751953 seconds\n",
      "[[0.   0.   0.   1.  ]\n",
      " [0.   0.5  0.5  0.  ]\n",
      " [0.   1.   0.   0.  ]\n",
      " [1.   0.   0.   0.  ]\n",
      " [1.   0.   0.   0.  ]\n",
      " [0.   0.   1.   0.  ]\n",
      " [0.   0.   1.   0.  ]\n",
      " [1.   0.   0.   0.  ]\n",
      " [0.5  0.   0.5  0.  ]\n",
      " [0.   0.   0.   1.  ]\n",
      " [0.   0.5  0.   0.5 ]\n",
      " [0.   1.   0.   0.  ]\n",
      " [0.   0.   0.   1.  ]\n",
      " [0.   0.   0.   1.  ]\n",
      " [0.25 0.25 0.25 0.25]\n",
      " [1.   0.   0.   0.  ]]\n"
     ]
    }
   ],
   "source": [
    "import time\n",
    "\n",
    "\n",
    "pi = np.ones(prob_policy.shape) / 2\n",
    "quit = False\n",
    "i = 0\n",
    "\n",
    "t1 = time.time()\n",
    "\n",
    "while not quit:\n",
    "    cpi = np.diag(pi[:,0]).dot(costs[:,0]) + np.diag(pi[:,1]).dot(costs[:,1]) + np.diag(pi[:,2]).dot(costs[:,2]) + np.diag(pi[:,3]).dot(costs[:,3])\n",
    "    Ppi = np.diag(pi[:,0]).dot(prob_up) + np.diag(pi[:,1]).dot(prob_down) + np.diag(pi[:,2]).dot(prob_left) + np.diag(pi[:,3]).dot(prob_right)\n",
    "    \n",
    "    J = np.linalg.inv(np.eye(len(states)) - gamma * Ppi).dot(cpi)\n",
    "    J = J.reshape(-1, 1)\n",
    "    \n",
    "    Qup = cost_up + gamma * prob_up.dot(J)\n",
    "    Qdown = cost_down + gamma * prob_down.dot(J)\n",
    "    Qleft = cost_left + gamma * prob_left.dot(J)\n",
    "    Qright = cost_right + gamma * prob_right.dot(J)\n",
    "    \n",
    "    pinew = np.zeros((len(states),len(actions)))\n",
    "    pinew[:, 0, None] = np.isclose(Qup, np.min([Qup, Qdown, Qleft, Qright], axis=0), atol=1e-8, rtol=1e-8).astype(int)\n",
    "    pinew[:, 1, None] = np.isclose(Qdown, np.min([Qup, Qdown, Qleft, Qright], axis=0), atol=1e-8, rtol=1e-8).astype(int)\n",
    "    pinew[:, 2, None] = np.isclose(Qleft, np.min([Qup, Qdown, Qleft, Qright], axis=0), atol=1e-8, rtol=1e-8).astype(int)\n",
    "    pinew[:, 3, None] = np.isclose(Qright, np.min([Qup, Qdown, Qleft, Qright], axis=0), atol=1e-8, rtol=1e-8).astype(int)\n",
    "    pinew = pinew / np.sum(pinew, axis=1, keepdims=True)\n",
    "    quit = (pi.all() == pinew.all())\n",
    "    pi = pinew\n",
    "    i += 1\n",
    "    \n",
    "\n",
    "t2 = time.time() - t1  \n",
    "\n",
    "print(\"Iterations:\", i, \"Time:\",t2,\"seconds\")\n",
    "print(pi)"
   ]
  },
  {
   "cell_type": "markdown",
   "metadata": {},
   "source": [
    "### 4. Simulation\n",
    "\n",
    "Finally, in this section you will check whether the theoretical computations of the cost-to-go actually correspond to the cost incurred by an agent following a policy."
   ]
  },
  {
   "cell_type": "markdown",
   "metadata": {},
   "source": [
    "---\n",
    "\n",
    "#### Activity 6\n",
    "\n",
    "Suppose that the agent is where depicted in Fig. 1, and consider the situations (i) where it has no keys; (ii) where it has only the red key; (iii) where it has both keys. For each of the three situations,  \n",
    "\n",
    "* Generate **100** trajectories of 10,000 steps each, following the optimal policy for the MDP. \n",
    "* For each trajectory, compute the accumulated (discounted) cost. \n",
    "* Compute the average cost over the 100 trajectories.\n",
    "* Compare the resulting value with that computed in Activity 4. \n",
    "\n",
    "** Note:** The simulation may take a bit of time, don't despair ☺️.\n",
    "\n",
    "---"
   ]
  },
  {
   "cell_type": "code",
   "execution_count": 30,
   "metadata": {},
   "outputs": [
    {
     "name": "stdout",
     "output_type": "stream",
     "text": [
      "Initial State: BR Discounted Cost: 99.99999999999925 Difference from the theoretical cost-to-go: 1.2468827930167805\n",
      "Initial State: BRR Discounted Cost: 99.99999999999925 Difference from the theoretical cost-to-go: 6.679101716144942e-13\n",
      "Initial State: BRB Discounted Cost: 99.99999999999925 Difference from the theoretical cost-to-go: 1.2391092095191851\n"
     ]
    }
   ],
   "source": [
    "for initial_state in ['BR', 'BRR','BRB']:\n",
    "    state= initial_state\n",
    "    for trajectory in range(100):\n",
    "        prob = 0\n",
    "        for step in range(10000):\n",
    "            stateIndex = states.index(state)\n",
    "            prob = prob + pow(gamma,step) * policy_cost[stateIndex]\n",
    "            state = states[np.random.choice(range(len(states)), p=prob_policy[states.index(state)])]\n",
    "    print(\"Initial State: \" + str(initial_state)+\" Discounted Cost: \" + str(prob) + \" Difference from the theoretical cost-to-go: \" + str(abs(prob - J[states.index(initial_state)][0])))"
   ]
  },
  {
   "cell_type": "code",
   "execution_count": null,
   "metadata": {},
   "outputs": [],
   "source": []
  }
 ],
 "metadata": {
  "celltoolbar": "Raw Cell Format",
  "kernelspec": {
   "display_name": "Python 3",
   "language": "python",
   "name": "python3"
  },
  "language_info": {
   "codemirror_mode": {
    "name": "ipython",
    "version": 3
   },
   "file_extension": ".py",
   "mimetype": "text/x-python",
   "name": "python",
   "nbconvert_exporter": "python",
   "pygments_lexer": "ipython3",
   "version": "3.7.1"
  }
 },
 "nbformat": 4,
 "nbformat_minor": 1
}
